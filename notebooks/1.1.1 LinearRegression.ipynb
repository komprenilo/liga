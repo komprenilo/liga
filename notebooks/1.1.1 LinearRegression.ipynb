{
 "cells": [
  {
   "cell_type": "markdown",
   "id": "bf43a24d-3283-4a3d-a51b-d576c13e482f",
   "metadata": {},
   "source": [
    "## Step 1: Prepare the Training and Evaluation Dataset"
   ]
  },
  {
   "cell_type": "code",
   "execution_count": 1,
   "id": "ec400d32-b024-40fb-bd77-42f4f41afdb3",
   "metadata": {},
   "outputs": [
    {
     "data": {
      "text/plain": [
       "((442, 10), (442,))"
      ]
     },
     "execution_count": 1,
     "metadata": {},
     "output_type": "execute_result"
    }
   ],
   "source": [
    "from sklearn.datasets import load_diabetes\n",
    "X, y = load_diabetes(return_X_y=True)\n",
    "(X.shape, y.shape)"
   ]
  },
  {
   "cell_type": "code",
   "execution_count": 2,
   "id": "93d28d5c-0b28-41f6-a8a2-c71a3f278ffc",
   "metadata": {},
   "outputs": [
    {
     "data": {
      "text/plain": [
       "[(array([ 0.03807591,  0.05068012,  0.06169621,  0.02187239, -0.0442235 ,\n",
       "         -0.03482076, -0.04340085, -0.00259226,  0.01990749, -0.01764613]),\n",
       "  151.0),\n",
       " (array([-0.00188202, -0.04464164, -0.05147406, -0.02632753, -0.00844872,\n",
       "         -0.01916334,  0.07441156, -0.03949338, -0.06833155, -0.09220405]),\n",
       "  75.0)]"
      ]
     },
     "execution_count": 2,
     "metadata": {},
     "output_type": "execute_result"
    }
   ],
   "source": [
    "[(X[0], y[0]), (X[1], y[1])]"
   ]
  },
  {
   "cell_type": "markdown",
   "id": "751e421d-d982-4ba4-80c6-740652dc5fd7",
   "metadata": {},
   "source": [
    "## Step 2: Launching the Spark Session with Rikai Extension"
   ]
  },
  {
   "cell_type": "code",
   "execution_count": 3,
   "id": "9ffd5b9d-0203-4add-a618-fecd56a64112",
   "metadata": {},
   "outputs": [
    {
     "name": "stderr",
     "output_type": "stream",
     "text": [
      "23/01/11 22:39:03 WARN Utils: Your hostname, tubi resolves to a loopback address: 127.0.1.1; using 192.168.31.29 instead (on interface wlp0s20f3)\n",
      "23/01/11 22:39:03 WARN Utils: Set SPARK_LOCAL_IP if you need to bind to another address\n",
      "WARNING: An illegal reflective access operation has occurred\n",
      "WARNING: Illegal reflective access by org.apache.spark.unsafe.Platform (file:/home/da/.cache/pants/named_caches/pex_root/installed_wheels/d24c8223f4d717c1f3c64217cffe4b03e91f82b29e7ca0db414f1b2fdc970248/pyspark-3.2.1-py2.py3-none-any.whl/pyspark/jars/spark-unsafe_2.12-3.2.1.jar) to constructor java.nio.DirectByteBuffer(long,int)\n",
      "WARNING: Please consider reporting this to the maintainers of org.apache.spark.unsafe.Platform\n",
      "WARNING: Use --illegal-access=warn to enable warnings of further illegal reflective access operations\n",
      "WARNING: All illegal access operations will be denied in a future release\n",
      "23/01/11 22:39:04 WARN NativeCodeLoader: Unable to load native-hadoop library for your platform... using builtin-java classes where applicable\n",
      "Using Spark's default log4j profile: org/apache/spark/log4j-defaults.properties\n",
      "Setting default log level to \"WARN\".\n",
      "To adjust logging level use sc.setLogLevel(newLevel). For SparkR, use setLogLevel(newLevel).\n"
     ]
    }
   ],
   "source": [
    "from example import spark"
   ]
  },
  {
   "cell_type": "markdown",
   "id": "a943ea91-37e5-4d34-a26c-9d07b1b9c2ea",
   "metadata": {},
   "source": [
    "## Step 3: Training and Logging using MLflow"
   ]
  },
  {
   "cell_type": "code",
   "execution_count": 4,
   "id": "a1fe7e34-df05-4986-988d-64a180603ac4",
   "metadata": {},
   "outputs": [
    {
     "name": "stderr",
     "output_type": "stream",
     "text": [
      "/home/da/.cache/pants/named_caches/pex_root/venvs/4fb949f88b9dda30312762982be932aa9995cc44/c95fe6efc7536238ebddaa921bb2c06a9740d72e/lib/python3.9/site-packages/_distutils_hack/__init__.py:33: UserWarning: Setuptools is replacing distutils.\n",
      "  warnings.warn(\"Setuptools is replacing distutils.\")\n",
      "2023/01/11 22:39:09 WARNING mlflow.utils.environment: Failed to resolve installed pip version. ``pip`` will be added to conda.yaml environment spec without a version specifier.\n",
      "Registered model 'da_sklearn_lr' already exists. Creating a new version of this model...\n",
      "2023/01/11 22:39:09 INFO mlflow.tracking._model_registry.client: Waiting up to 300 seconds for model version to finish creation.                     Model name: da_sklearn_lr, version 3\n",
      "Created version '3' of model 'da_sklearn_lr'.\n",
      "/tmp/pants-sandbox-4jJkIg/python/liga/mlflow/logger.py:137: UserWarning: value of rikai.output.schema is None or empty and will not be populated to MLflow\n",
      "  warnings.warn(\n"
     ]
    }
   ],
   "source": [
    "import getpass\n",
    "\n",
    "import mlflow\n",
    "from liga.sklearn.mlflow import log_model\n",
    "from sklearn.linear_model import LinearRegression\n",
    "\n",
    "\n",
    "mlflow_tracking_uri = \"sqlite:///mlruns.db\"\n",
    "mlflow.set_tracking_uri(mlflow_tracking_uri)\n",
    "\n",
    "# train a model\n",
    "model = LinearRegression()\n",
    "with mlflow.start_run() as run:\n",
    "    ####\n",
    "    # Part 1: Train the model and register it on MLflow\n",
    "    ####\n",
    "    model.fit(X, y)\n",
    "\n",
    "    registered_model_name = f\"{getpass.getuser()}_sklearn_lr\"\n",
    "    log_model(model, registered_model_name)\n"
   ]
  },
  {
   "cell_type": "markdown",
   "id": "a127f6a2-aaed-461b-8ebd-4758d4a8ef2d",
   "metadata": {},
   "source": [
    "## Step 4: Create the model using the registered MLflow uri"
   ]
  },
  {
   "cell_type": "code",
   "execution_count": 5,
   "id": "c3e38927-df44-4e87-bd60-b6b8b16935f8",
   "metadata": {},
   "outputs": [
    {
     "name": "stdout",
     "output_type": "stream",
     "text": [
      "+----------------+------+-----------------------+-------+\n",
      "|name            |flavor|uri                    |options|\n",
      "+----------------+------+-----------------------+-------+\n",
      "|mlflow_sklearn_m|      |mlflow:///da_sklearn_lr|       |\n",
      "+----------------+------+-----------------------+-------+\n",
      "\n"
     ]
    }
   ],
   "source": [
    "from liga.mlflow import CONF_MLFLOW_TRACKING_URI\n",
    "spark.conf.set(\"spark.sql.execution.arrow.pyspark.enabled\", \"false\")\n",
    "spark.conf.set(CONF_MLFLOW_TRACKING_URI, mlflow_tracking_uri)\n",
    "spark.sql(f\"\"\"\n",
    "CREATE OR REPLACE MODEL mlflow_sklearn_m USING 'mlflow:///{registered_model_name}';\n",
    "\"\"\"\n",
    ")\n",
    "\n",
    "spark.sql(\"show models\").show(1, vertical=False, truncate=False)\n"
   ]
  },
  {
   "cell_type": "markdown",
   "id": "b2dc0a7e-bae0-413b-a59a-64420254a68b",
   "metadata": {},
   "source": [
    "## Step 5: predict using the registered Rikai model"
   ]
  },
  {
   "cell_type": "code",
   "execution_count": 6,
   "id": "d975f9ea-4006-4526-b596-6b0dc0d3df2f",
   "metadata": {},
   "outputs": [
    {
     "name": "stdout",
     "output_type": "stream",
     "text": [
      "root\n",
      " |-- mlflow_sklearn_m: float (nullable = true)\n",
      "\n"
     ]
    },
    {
     "name": "stderr",
     "output_type": "stream",
     "text": [
      "                                                                                \r"
     ]
    },
    {
     "data": {
      "text/html": [
       "<div>\n",
       "<style scoped>\n",
       "    .dataframe tbody tr th:only-of-type {\n",
       "        vertical-align: middle;\n",
       "    }\n",
       "\n",
       "    .dataframe tbody tr th {\n",
       "        vertical-align: top;\n",
       "    }\n",
       "\n",
       "    .dataframe thead th {\n",
       "        text-align: right;\n",
       "    }\n",
       "</style>\n",
       "<table border=\"1\" class=\"dataframe\">\n",
       "  <thead>\n",
       "    <tr style=\"text-align: right;\">\n",
       "      <th></th>\n",
       "      <th>mlflow_sklearn_m</th>\n",
       "    </tr>\n",
       "  </thead>\n",
       "  <tbody>\n",
       "    <tr>\n",
       "      <th>0</th>\n",
       "      <td>206.116684</td>\n",
       "    </tr>\n",
       "  </tbody>\n",
       "</table>\n",
       "</div>"
      ],
      "text/plain": [
       "   mlflow_sklearn_m\n",
       "0        206.116684"
      ]
     },
     "execution_count": 6,
     "metadata": {},
     "output_type": "execute_result"
    }
   ],
   "source": [
    "from liga.numpy.sql import literal\n",
    "\n",
    "result = spark.sql(f\"\"\"\n",
    "select\n",
    "  ML_PREDICT(mlflow_sklearn_m, {literal(X[0])})\n",
    "\"\"\"\n",
    ")\n",
    "\n",
    "result.printSchema()\n",
    "result.toPandas()"
   ]
  },
  {
   "cell_type": "code",
   "execution_count": 7,
   "id": "3bca9b6b-fe15-4548-b303-b1291c85866f",
   "metadata": {},
   "outputs": [
    {
     "data": {
      "text/html": [
       "<div>\n",
       "<style scoped>\n",
       "    .dataframe tbody tr th:only-of-type {\n",
       "        vertical-align: middle;\n",
       "    }\n",
       "\n",
       "    .dataframe tbody tr th {\n",
       "        vertical-align: top;\n",
       "    }\n",
       "\n",
       "    .dataframe thead th {\n",
       "        text-align: right;\n",
       "    }\n",
       "</style>\n",
       "<table border=\"1\" class=\"dataframe\">\n",
       "  <thead>\n",
       "    <tr style=\"text-align: right;\">\n",
       "      <th></th>\n",
       "      <th>mlflow_sklearn_m</th>\n",
       "    </tr>\n",
       "  </thead>\n",
       "  <tbody>\n",
       "    <tr>\n",
       "      <th>0</th>\n",
       "      <td>68.07103</td>\n",
       "    </tr>\n",
       "  </tbody>\n",
       "</table>\n",
       "</div>"
      ],
      "text/plain": [
       "   mlflow_sklearn_m\n",
       "0          68.07103"
      ]
     },
     "execution_count": 7,
     "metadata": {},
     "output_type": "execute_result"
    }
   ],
   "source": [
    "spark.sql(f\"\"\"\n",
    "select  ML_PREDICT(mlflow_sklearn_m, {literal(X[1])})\n",
    "\"\"\").toPandas()"
   ]
  },
  {
   "cell_type": "code",
   "execution_count": null,
   "id": "d60193e9-ae67-4a35-8899-70b3a5ece626",
   "metadata": {},
   "outputs": [],
   "source": []
  }
 ],
 "metadata": {
  "kernelspec": {
   "display_name": "Python 3 (ipykernel)",
   "language": "python",
   "name": "python3"
  },
  "language_info": {
   "codemirror_mode": {
    "name": "ipython",
    "version": 3
   },
   "file_extension": ".py",
   "mimetype": "text/x-python",
   "name": "python",
   "nbconvert_exporter": "python",
   "pygments_lexer": "ipython3",
   "version": "3.9.10"
  },
  "vscode": {
   "interpreter": {
    "hash": "ff303dbe01002ceb672ffd5d369f9b5b98314528f80e3e57bcb6e88295d42cc8"
   }
  }
 },
 "nbformat": 4,
 "nbformat_minor": 5
}
